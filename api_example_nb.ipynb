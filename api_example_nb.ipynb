{
 "cells": [
  {
   "cell_type": "markdown",
   "id": "4adca26f-c277-49bb-b591-117a796b4f7d",
   "metadata": {},
   "source": [
    "## import osparc and start application"
   ]
  },
  {
   "cell_type": "code",
   "execution_count": null,
   "id": "a5fa8994-0027-4b62-baf3-8778ff077539",
   "metadata": {
    "tags": []
   },
   "outputs": [],
   "source": [
    "\n",
    "%load_ext autoreload\n",
    "%autoreload 2\n",
    "\n",
    "import importlib\n",
    "import numpy as np\n",
    "from s4l_v1._api.application import run_application, get_app_safe\n",
    "\n",
    "if importlib.util.find_spec('osparc') is None:\n",
    "    !pip install osparc\n",
    "!python -c \"import osparc; print(osparc.__version__)\"\n",
    "\n",
    "if get_app_safe() is None:\n",
    "    run_application()\n",
    "app = get_app_safe()\n"
   ]
  },
  {
   "cell_type": "markdown",
   "id": "6c1fee3c-fa32-4a12-88b4-a4b7fa2331fd",
   "metadata": {},
   "source": [
    "## other imports"
   ]
  },
  {
   "cell_type": "code",
   "execution_count": null,
   "id": "d783e20e",
   "metadata": {
    "tags": []
   },
   "outputs": [],
   "source": [
    "\n",
    "import os\n",
    "import osparc\n",
    "\n",
    "from dotenv import dotenv_values\n",
    "from concurrent.futures import ThreadPoolExecutor\n",
    "from file_utils import stage_simulation\n",
    "from job_utils import create_and_upload_job, monitor_jobs, download_results\n"
   ]
  },
  {
   "cell_type": "markdown",
   "id": "a5daa589-a0d3-421e-8563-c0ce27da554a",
   "metadata": {},
   "source": [
    "## load config file and read config vars"
   ]
  },
  {
   "cell_type": "code",
   "execution_count": null,
   "id": "79b325ba",
   "metadata": {
    "tags": []
   },
   "outputs": [],
   "source": [
    "\n",
    "# Configuration variables\n",
    "runner_solver_name = \"simcore/services/comp/s4l-python-runner-8-0-0\"\n",
    "runner_solver_version = \"1.2.0\"\n",
    "\n",
    "electrode_range = range(0, 4)\n",
    "project_name = \"my_project.smash\"\n",
    "template_path = 'template.txt'\n",
    "\n",
    "home_dir = '/home/smu/work/workspace'\n",
    "code_dir = os.path.join(home_dir, 'my_code')\n",
    "staging_dir = os.path.join(home_dir, 'staging')\n",
    "result_dir = os.path.join(home_dir, 'results')\n",
    "\n",
    "# Retrieve API credentials from separate file\n",
    "config = dotenv_values(\"api.env\")  # change file if user is different !!\n",
    "cfg = osparc.Configuration(\n",
    "        host=config[\"OSPARC_API_HOST\"],      \n",
    "        username=config['OSPARC_API_KEY'],\n",
    "        password=config[\"OSPARC_API_SECRET\"],\n",
    "    )\n",
    "print(\"pointing to \", cfg.host)\n",
    "\n",
    "# Make sure directories exist\n",
    "os.makedirs(staging_dir, exist_ok=True)\n",
    "os.makedirs(result_dir, exist_ok=True)\n",
    "os.makedirs(code_dir, exist_ok=True)\n"
   ]
  },
  {
   "cell_type": "markdown",
   "id": "3ac8afe1-60f8-4d18-9da1-fc72d5834aee",
   "metadata": {},
   "source": [
    "## stage and launch jobs"
   ]
  },
  {
   "cell_type": "code",
   "execution_count": null,
   "id": "bf44b9d9",
   "metadata": {
    "tags": []
   },
   "outputs": [],
   "source": [
    "\n",
    "%autoreload 2\n",
    "# main execution logic\n",
    "with osparc.ApiClient(cfg) as api_client:\n",
    "    solvers_api = osparc.SolversApi(api_client)\n",
    "    files_api = osparc.FilesApi(api_client)\n",
    "\n",
    "    metadata = {}\n",
    "\n",
    "    # using a thread pool for parallel job creation\n",
    "    with ThreadPoolExecutor(max_workers=10) as executor:\n",
    "        futures = [\n",
    "            executor.submit(\n",
    "                create_and_upload_job,\n",
    "                files_api, \n",
    "                solvers_api, \n",
    "                project_name, \n",
    "                e_index,\n",
    "                stage_simulation(  \n",
    "                    project_name, \n",
    "                    e_index, \n",
    "                    template_path, \n",
    "                    home_dir,\n",
    "                    {\n",
    "                        'template_vars': {\n",
    "                            'smashfile': project_name,\n",
    "                            'electrode_index': e_index\n",
    "                        },\n",
    "                        'file_suffix': 'em_sim',\n",
    "                        'zip_files': [\n",
    "                            'requirements.txt',  # Additional files\n",
    "                            'emconfig.json',\n",
    "                            os.path.join(home_dir, project_name)  # Smashfile\n",
    "                        ],\n",
    "                        'zip_folders': [\n",
    "                            code_dir  # Folders to include\n",
    "                        ],\n",
    "                        'zipped_filename': f'em_sim_{project_name}_E{str(e_index).zfill(2)}.zip'\n",
    "                    }\n",
    "                ),  # This call returns the path to the staged and zipped simulation\n",
    "                runner_solver_name, \n",
    "                runner_solver_version\n",
    "            )\n",
    "            for e_index in electrode_range  # Looping over the electrode range to submit jobs in parallel\n",
    "        ]\n",
    "        \n",
    "        # Collect results from the futures\n",
    "        for future in futures:\n",
    "            result = future.result()  # Wait for each future to complete\n",
    "            metadata[result[0]] = result[1]  # Store metadata (e.g., job ID and status)\n",
    "\n",
    "    # Monitor job statuses after all jobs are created\n",
    "    statuses = monitor_jobs(solvers_api, metadata, runner_solver_version)\n",
    "\n",
    "    # Download and extract the results after job completion\n",
    "    download_results(files_api, solvers_api, metadata, runner_solver_version, result_dir)\n"
   ]
  },
  {
   "cell_type": "code",
   "execution_count": null,
   "id": "54603037-99e6-43c2-9b70-2a5a2a234092",
   "metadata": {},
   "outputs": [],
   "source": []
  }
 ],
 "metadata": {
  "kernelspec": {
   "display_name": "Sim4Life",
   "language": "python",
   "name": "python3"
  },
  "language_info": {
   "codemirror_mode": {
    "name": "ipython",
    "version": 3
   },
   "file_extension": ".py",
   "mimetype": "text/x-python",
   "name": "python",
   "nbconvert_exporter": "python",
   "pygments_lexer": "ipython3",
   "version": "3.8.10"
  }
 },
 "nbformat": 4,
 "nbformat_minor": 5
}
